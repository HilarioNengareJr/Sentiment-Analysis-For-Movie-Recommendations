{
 "cells": [
  {
   "cell_type": "code",
   "execution_count": 1,
   "id": "0f3a1a21-7e8b-4c5e-ab16-665b88a71874",
   "metadata": {},
   "outputs": [],
   "source": [
    "import pandas as pd"
   ]
  },
  {
   "cell_type": "code",
   "execution_count": 4,
   "id": "6b01bc2e-ce80-4f9b-b93e-714aeaa5af0a",
   "metadata": {},
   "outputs": [],
   "source": [
    "from sklearn.feature_extraction.text import CountVectorizer"
   ]
  },
  {
   "cell_type": "code",
   "execution_count": 28,
   "id": "ea5c4472-0c7d-43af-a098-8ebf80abd59e",
   "metadata": {},
   "outputs": [],
   "source": [
    "# Loading pickle file\n",
    "dataset = pd.read_pickle('../data/data_set_v5.pkl')"
   ]
  },
  {
   "cell_type": "code",
   "execution_count": 29,
   "id": "c13b238f-5a59-4dfa-8d05-0bcbd15373ab",
   "metadata": {},
   "outputs": [
    {
     "data": {
      "text/plain": [
       "['need', 'stop']"
      ]
     },
     "execution_count": 29,
     "metadata": {},
     "output_type": "execute_result"
    }
   ],
   "source": [
    "dataset[5]"
   ]
  },
  {
   "cell_type": "code",
   "execution_count": 30,
   "id": "6099bffe-f660-4e9f-bd8a-745d98d547d7",
   "metadata": {},
   "outputs": [],
   "source": [
    "# Converting list reviews back to strings for the CountVectorizer\n",
    "joined_dataset = [' '.join(review) for review in dataset]"
   ]
  },
  {
   "cell_type": "code",
   "execution_count": 35,
   "id": "70a50ef1-c1dd-4800-a289-3da820b718c2",
   "metadata": {},
   "outputs": [
    {
     "data": {
      "text/plain": [
       "['excruciatingli aw',\n",
       " 'happen ',\n",
       " 'worst one yet ',\n",
       " 'fast x',\n",
       " 'liter thought parodi skit snl ']"
      ]
     },
     "execution_count": 35,
     "metadata": {},
     "output_type": "execute_result"
    }
   ],
   "source": [
    "joined_dataset[:5]"
   ]
  },
  {
   "cell_type": "code",
   "execution_count": 36,
   "id": "ccdb9e8a-8c32-45b0-a55f-06530ac76f91",
   "metadata": {},
   "outputs": [],
   "source": [
    "# Instantiating a Count Vectorizer object\n",
    "vectorizer = CountVectorizer()"
   ]
  },
  {
   "cell_type": "code",
   "execution_count": 37,
   "id": "5e12b180-17aa-498f-bf30-f3cac192a613",
   "metadata": {},
   "outputs": [],
   "source": [
    "# Fitting, then transforming the reviews to bag of words representation\n",
    "bow_matrix = vectorizer.fit_transform(joined_dataset).toarray()"
   ]
  },
  {
   "cell_type": "code",
   "execution_count": 44,
   "id": "0f88eb19-7288-4c9d-9c04-733f33cb8ab4",
   "metadata": {},
   "outputs": [
    {
     "data": {
      "text/plain": [
       "array([[0, 0, 0, ..., 0, 0, 0],\n",
       "       [0, 0, 0, ..., 0, 0, 0],\n",
       "       [0, 0, 0, ..., 0, 0, 0],\n",
       "       ...,\n",
       "       [0, 0, 0, ..., 0, 0, 0],\n",
       "       [0, 0, 0, ..., 0, 0, 0],\n",
       "       [0, 0, 0, ..., 0, 0, 0]])"
      ]
     },
     "execution_count": 44,
     "metadata": {},
     "output_type": "execute_result"
    }
   ],
   "source": [
    "# Sample bag of words\n",
    "bow_matrix[:15]"
   ]
  },
  {
   "cell_type": "code",
   "execution_count": 45,
   "id": "702f7719-dac2-4dfe-b8e5-4bcc59c59649",
   "metadata": {},
   "outputs": [],
   "source": [
    "# Representing Bag of Words as a dataframe for better visualization\n",
    "bow_df = pd.DataFrame(bow_matrix, columns=vectorizer.get_feature_names_out())"
   ]
  },
  {
   "cell_type": "code",
   "execution_count": 48,
   "id": "224ecf01-bca0-4c8c-bc56-2cb5787b71bc",
   "metadata": {},
   "outputs": [],
   "source": [
    "# Saving as pickle and csv\n",
    "bow_df.to_pickle('../data/data_set_bow.pkl')\n",
    "bow_df.to_csv('../data/data_set_bow.csv', index=False)"
   ]
  },
  {
   "cell_type": "code",
   "execution_count": null,
   "id": "e4598529-dff7-4aab-986a-df9c78f2bf9d",
   "metadata": {},
   "outputs": [],
   "source": []
  }
 ],
 "metadata": {
  "kernelspec": {
   "display_name": "Python 3 (ipykernel)",
   "language": "python",
   "name": "python3"
  },
  "language_info": {
   "codemirror_mode": {
    "name": "ipython",
    "version": 3
   },
   "file_extension": ".py",
   "mimetype": "text/x-python",
   "name": "python",
   "nbconvert_exporter": "python",
   "pygments_lexer": "ipython3",
   "version": "3.11.5"
  }
 },
 "nbformat": 4,
 "nbformat_minor": 5
}
