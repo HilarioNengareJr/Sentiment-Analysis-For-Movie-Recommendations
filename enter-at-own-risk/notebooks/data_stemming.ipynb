{
 "cells": [
  {
   "cell_type": "code",
   "execution_count": 1,
   "id": "2ec8e5f9-684d-44d4-b87f-b158a8221ecb",
   "metadata": {},
   "outputs": [],
   "source": [
    "from nltk.stem import PorterStemmer\n",
    "import pandas as pd"
   ]
  },
  {
   "cell_type": "code",
   "execution_count": 2,
   "id": "fc756d2c-e172-4166-b37d-34e8d4bf50ab",
   "metadata": {},
   "outputs": [],
   "source": [
    "def stem_words(input_sentence_list):\n",
    "    stemmer = PorterStemmer()\n",
    "    return [stemmer.stem(word) for word in input_sentence_list]"
   ]
  },
  {
   "cell_type": "code",
   "execution_count": 3,
   "id": "da6d1ced-b90b-4c24-bda4-8096361be6a0",
   "metadata": {},
   "outputs": [],
   "source": [
    "df = pd.read_pickle('../data/data_set_v3.pkl')"
   ]
  },
  {
   "cell_type": "code",
   "execution_count": 4,
   "id": "2d64c0b3-a511-4458-9c64-c31bfb0a40f1",
   "metadata": {},
   "outputs": [],
   "source": [
    "stemmed_data = [stem_words(sentence) for sentence in df['User Reviews']]"
   ]
  },
  {
   "cell_type": "code",
   "execution_count": 5,
   "id": "d0ec299f-0c72-4b59-9edf-dc5a715b0828",
   "metadata": {},
   "outputs": [],
   "source": [
    "df = pd.DataFrame({'Stemmed User Reviews' : stemmed_data})"
   ]
  },
  {
   "cell_type": "code",
   "execution_count": 6,
   "id": "56604b75-9689-4f99-af04-94d3c659157c",
   "metadata": {},
   "outputs": [],
   "source": [
    "# Saving data as pickle to maintain list structure\n",
    "df.to_pickle('../data/data_set_v4.pkl')\n",
    "# Saving as csv for visualization\n",
    "df.to_csv('../data/data_set_v4.csv', index=False)"
   ]
  },
  {
   "cell_type": "code",
   "execution_count": null,
   "id": "ee6ba8e1-d0bb-422c-8775-26f30d3bf417",
   "metadata": {},
   "outputs": [],
   "source": []
  }
 ],
 "metadata": {
  "kernelspec": {
   "display_name": "Python 3 (ipykernel)",
   "language": "python",
   "name": "python3"
  },
  "language_info": {
   "codemirror_mode": {
    "name": "ipython",
    "version": 3
   },
   "file_extension": ".py",
   "mimetype": "text/x-python",
   "name": "python",
   "nbconvert_exporter": "python",
   "pygments_lexer": "ipython3",
   "version": "3.11.5"
  }
 },
 "nbformat": 4,
 "nbformat_minor": 5
}
