{
 "cells": [
  {
   "cell_type": "code",
   "execution_count": 52,
   "id": "8717aee5-7886-4386-87d2-61ecc827c5ae",
   "metadata": {},
   "outputs": [],
   "source": [
    "import numpy as np"
   ]
  },
  {
   "cell_type": "code",
   "execution_count": 53,
   "id": "e25cce0e-5fdb-4e6c-9c93-9abf0004b965",
   "metadata": {},
   "outputs": [],
   "source": [
    "import pandas as pd"
   ]
  },
  {
   "cell_type": "code",
   "execution_count": 54,
   "id": "af0524e0-c879-42e1-af88-c74c923c4c59",
   "metadata": {},
   "outputs": [],
   "source": [
    "import ast"
   ]
  },
  {
   "cell_type": "code",
   "execution_count": 55,
   "id": "9895fff9-2cad-4765-b39b-c8d7b8400017",
   "metadata": {},
   "outputs": [],
   "source": [
    "# Loading the scraped data set\n",
    "df = pd.read_csv('../data/data_set_v1.csv')"
   ]
  },
  {
   "cell_type": "code",
   "execution_count": 56,
   "id": "879ced1b-1fd3-44c4-b670-faf5c16f5ed5",
   "metadata": {},
   "outputs": [
    {
     "name": "stdout",
     "output_type": "stream",
     "text": [
      "<class 'pandas.core.frame.DataFrame'>\n",
      "RangeIndex: 110 entries, 0 to 109\n",
      "Data columns (total 2 columns):\n",
      " #   Column        Non-Null Count  Dtype \n",
      "---  ------        --------------  ----- \n",
      " 0   Title         110 non-null    object\n",
      " 1   User Reviews  110 non-null    object\n",
      "dtypes: object(2)\n",
      "memory usage: 1.8+ KB\n"
     ]
    }
   ],
   "source": [
    "# Checking general information related to the loaded dataframe\n",
    "df.info()"
   ]
  },
  {
   "cell_type": "code",
   "execution_count": 57,
   "id": "08b32d2c-727d-4750-ad05-f712bc815cf4",
   "metadata": {},
   "outputs": [
    {
     "data": {
      "text/html": [
       "<div>\n",
       "<style scoped>\n",
       "    .dataframe tbody tr th:only-of-type {\n",
       "        vertical-align: middle;\n",
       "    }\n",
       "\n",
       "    .dataframe tbody tr th {\n",
       "        vertical-align: top;\n",
       "    }\n",
       "\n",
       "    .dataframe thead th {\n",
       "        text-align: right;\n",
       "    }\n",
       "</style>\n",
       "<table border=\"1\" class=\"dataframe\">\n",
       "  <thead>\n",
       "    <tr style=\"text-align: right;\">\n",
       "      <th></th>\n",
       "      <th>Title</th>\n",
       "      <th>User Reviews</th>\n",
       "    </tr>\n",
       "  </thead>\n",
       "  <tbody>\n",
       "    <tr>\n",
       "      <th>count</th>\n",
       "      <td>110</td>\n",
       "      <td>110</td>\n",
       "    </tr>\n",
       "    <tr>\n",
       "      <th>unique</th>\n",
       "      <td>87</td>\n",
       "      <td>105</td>\n",
       "    </tr>\n",
       "    <tr>\n",
       "      <th>top</th>\n",
       "      <td>Interstellar</td>\n",
       "      <td>['Just wow', 'Ah yes. My first existential cri...</td>\n",
       "    </tr>\n",
       "    <tr>\n",
       "      <th>freq</th>\n",
       "      <td>3</td>\n",
       "      <td>2</td>\n",
       "    </tr>\n",
       "  </tbody>\n",
       "</table>\n",
       "</div>"
      ],
      "text/plain": [
       "               Title                                       User Reviews\n",
       "count            110                                                110\n",
       "unique            87                                                105\n",
       "top     Interstellar  ['Just wow', 'Ah yes. My first existential cri...\n",
       "freq               3                                                  2"
      ]
     },
     "execution_count": 57,
     "metadata": {},
     "output_type": "execute_result"
    }
   ],
   "source": [
    "# could use an in-depth description if we have duplicates\n",
    "df.describe()"
   ]
  },
  {
   "cell_type": "code",
   "execution_count": 58,
   "id": "2b746d67-b344-4ad9-8d62-3993605e1ee9",
   "metadata": {},
   "outputs": [],
   "source": [
    "# As a matter of fact we have duplicates and am going to remove them in place\n",
    "df.drop_duplicates('Title',inplace=True)"
   ]
  },
  {
   "cell_type": "code",
   "execution_count": 59,
   "id": "2402a9d2-6a53-4e0b-b10d-8c77c8550e32",
   "metadata": {},
   "outputs": [
    {
     "data": {
      "text/html": [
       "<div>\n",
       "<style scoped>\n",
       "    .dataframe tbody tr th:only-of-type {\n",
       "        vertical-align: middle;\n",
       "    }\n",
       "\n",
       "    .dataframe tbody tr th {\n",
       "        vertical-align: top;\n",
       "    }\n",
       "\n",
       "    .dataframe thead th {\n",
       "        text-align: right;\n",
       "    }\n",
       "</style>\n",
       "<table border=\"1\" class=\"dataframe\">\n",
       "  <thead>\n",
       "    <tr style=\"text-align: right;\">\n",
       "      <th></th>\n",
       "      <th>Title</th>\n",
       "      <th>User Reviews</th>\n",
       "    </tr>\n",
       "  </thead>\n",
       "  <tbody>\n",
       "    <tr>\n",
       "      <th>count</th>\n",
       "      <td>87</td>\n",
       "      <td>87</td>\n",
       "    </tr>\n",
       "    <tr>\n",
       "      <th>unique</th>\n",
       "      <td>87</td>\n",
       "      <td>87</td>\n",
       "    </tr>\n",
       "    <tr>\n",
       "      <th>top</th>\n",
       "      <td>Fast X</td>\n",
       "      <td>['Excruciatingly Awful', 'What Happened?', 'Th...</td>\n",
       "    </tr>\n",
       "    <tr>\n",
       "      <th>freq</th>\n",
       "      <td>1</td>\n",
       "      <td>1</td>\n",
       "    </tr>\n",
       "  </tbody>\n",
       "</table>\n",
       "</div>"
      ],
      "text/plain": [
       "         Title                                       User Reviews\n",
       "count       87                                                 87\n",
       "unique      87                                                 87\n",
       "top     Fast X  ['Excruciatingly Awful', 'What Happened?', 'Th...\n",
       "freq         1                                                  1"
      ]
     },
     "execution_count": 59,
     "metadata": {},
     "output_type": "execute_result"
    }
   ],
   "source": [
    "# Can we get a second hand description of the dataframe now that we removed duplicates\n",
    "df.describe()"
   ]
  },
  {
   "cell_type": "code",
   "execution_count": 60,
   "id": "50330912-3ede-4b41-8d18-8d175db4b994",
   "metadata": {},
   "outputs": [
    {
     "name": "stdout",
     "output_type": "stream",
     "text": [
      "<class 'pandas.core.frame.DataFrame'>\n",
      "Index: 87 entries, 0 to 109\n",
      "Data columns (total 2 columns):\n",
      " #   Column        Non-Null Count  Dtype \n",
      "---  ------        --------------  ----- \n",
      " 0   Title         87 non-null     object\n",
      " 1   User Reviews  87 non-null     object\n",
      "dtypes: object(2)\n",
      "memory usage: 2.0+ KB\n"
     ]
    }
   ],
   "source": [
    "# Now we do an info check to seee if reviews rows match title rows\n",
    "df.info()"
   ]
  },
  {
   "cell_type": "code",
   "execution_count": 61,
   "id": "d0827ec4-7ffc-47ac-941e-196979b09171",
   "metadata": {},
   "outputs": [],
   "source": [
    "# Casting user reviews to python lists from string in order to achieve aspect level design\n",
    "user_reviews_data = df['User Reviews'].apply(ast.literal_eval).explode().to_list()"
   ]
  },
  {
   "cell_type": "code",
   "execution_count": 62,
   "id": "3d8fe2cb-edc9-4133-b1c7-fa1790c65fd0",
   "metadata": {},
   "outputs": [],
   "source": [
    "df = pd.DataFrame(user_reviews_data, columns=['User Reviews'])\n",
    "df.to_csv('../data/data_set_v2.csv', index=False)"
   ]
  },
  {
   "cell_type": "code",
   "execution_count": 107,
   "id": "c9733960-c93e-4225-8181-b5a97660304d",
   "metadata": {},
   "outputs": [],
   "source": [
    "# Using Regular Expression to filter special characters\n",
    "import re"
   ]
  },
  {
   "cell_type": "code",
   "execution_count": 63,
   "id": "05ffb346-0ad0-4b26-9aa8-ea4feb2cefa3",
   "metadata": {},
   "outputs": [],
   "source": [
    "# Tokenizing \n",
    "import nltk\n",
    "from nltk.tokenize import word_tokenize\n",
    "from nltk.corpus import stopwords"
   ]
  },
  {
   "cell_type": "code",
   "execution_count": 65,
   "id": "506b0900-07c8-4e2f-afa0-c695f4a5672e",
   "metadata": {},
   "outputs": [],
   "source": [
    "# Performing tokenization at aspect level for each sentence \n",
    "token_list = [word_tokenize(sentence) for sentence in df['User Reviews']]"
   ]
  },
  {
   "cell_type": "code",
   "execution_count": 64,
   "id": "61772de6-4916-419d-8d87-e3c99059fc0e",
   "metadata": {},
   "outputs": [
    {
     "name": "stderr",
     "output_type": "stream",
     "text": [
      "[nltk_data] Downloading package punkt to /home/hilario/nltk_data...\n",
      "[nltk_data]   Package punkt is already up-to-date!\n",
      "[nltk_data] Downloading package stopwords to\n",
      "[nltk_data]     /home/hilario/nltk_data...\n",
      "[nltk_data]   Package stopwords is already up-to-date!\n",
      "[nltk_data] Downloading package wordnet to /home/hilario/nltk_data...\n",
      "[nltk_data]   Package wordnet is already up-to-date!\n"
     ]
    },
    {
     "data": {
      "text/plain": [
       "True"
      ]
     },
     "execution_count": 64,
     "metadata": {},
     "output_type": "execute_result"
    }
   ],
   "source": [
    "nltk.download('punkt')\n",
    "nltk.download('stopwords')\n",
    "nltk.download('wordnet')"
   ]
  },
  {
   "cell_type": "code",
   "execution_count": 66,
   "id": "920d1413-04ce-4f79-9f07-6ca2c4832307",
   "metadata": {},
   "outputs": [],
   "source": [
    "# Creating a set of stop words in english\n",
    "stop_words = set(stopwords.words(\"english\"))"
   ]
  },
  {
   "cell_type": "code",
   "execution_count": 67,
   "id": "86459b90-ba2d-4b18-8e14-fe78dda6e015",
   "metadata": {},
   "outputs": [],
   "source": [
    "# removing stop words and maintaining list structure\n",
    "def remove_stopwords(input_sentence_list):\n",
    "    return [word for word in input_sentence_list if word.casefold() not in stop_words]    "
   ]
  },
  {
   "cell_type": "code",
   "execution_count": 89,
   "id": "cddb40aa-a380-4a0b-9e9d-529196ab2ade",
   "metadata": {},
   "outputs": [],
   "source": [
    "output_data = [remove_stopwords(sentence) for sentence in token_list]"
   ]
  },
  {
   "cell_type": "code",
   "execution_count": 90,
   "id": "4100da1a-cf08-46ef-8703-79365e4462ac",
   "metadata": {},
   "outputs": [],
   "source": [
    "df = pd.DataFrame({'User Reviews': output_data})"
   ]
  },
  {
   "cell_type": "code",
   "execution_count": 91,
   "id": "a5df825c-f107-48a0-9e83-129ada9006ac",
   "metadata": {},
   "outputs": [],
   "source": [
    "df.to_pickle('../data/data_set_v3.pkl')"
   ]
  },
  {
   "cell_type": "code",
   "execution_count": 92,
   "id": "ab602e68-7516-418b-a1d4-edf50b24be55",
   "metadata": {},
   "outputs": [],
   "source": [
    "# Stemming\n",
    "from nltk.stem import PorterStemmer"
   ]
  },
  {
   "cell_type": "code",
   "execution_count": 98,
   "id": "ded39264-62c1-469d-a670-57a5481dd8db",
   "metadata": {},
   "outputs": [],
   "source": [
    "def stem_words(input_sentence_list):\n",
    "    stemmer = PorterStemmer()\n",
    "    return [stemmer.stem(word) for word in input_sentence_list]"
   ]
  },
  {
   "cell_type": "code",
   "execution_count": 99,
   "id": "44c45c3e-c7a8-4f92-9228-cc784d79e027",
   "metadata": {},
   "outputs": [],
   "source": [
    "df = pd.read_pickle('../data/data_set_v3.pkl')"
   ]
  },
  {
   "cell_type": "code",
   "execution_count": 95,
   "id": "d7acd75e-6619-4b39-88c2-d391da8907f0",
   "metadata": {},
   "outputs": [],
   "source": [
    "stemmed_data = [stem_words(sentence) for sentence in df['User Reviews']]"
   ]
  },
  {
   "cell_type": "code",
   "execution_count": 105,
   "id": "fdb4e260-40b7-4865-8c2a-9ba1f0958d08",
   "metadata": {},
   "outputs": [],
   "source": [
    "df = pd.DataFrame({'Stemmed User Reviews' : stemmed_data})"
   ]
  },
  {
   "cell_type": "code",
   "execution_count": 106,
   "id": "61be9a45-a9ce-41fe-b65e-d490c7f86c43",
   "metadata": {},
   "outputs": [],
   "source": [
    "# Saving data as pickle to maintain list structure\n",
    "df.to_pickle('../data/data_set_v4.pkl')\n",
    "# Saving as csv for visualization\n",
    "df.to_csv('../data/data_set_v4.csv', index=False)"
   ]
  },
  {
   "cell_type": "code",
   "execution_count": null,
   "id": "f7e1493c-66f7-4ecc-91b8-412244e5f862",
   "metadata": {},
   "outputs": [],
   "source": [
    "# Part of Speech Tagging"
   ]
  }
 ],
 "metadata": {
  "kernelspec": {
   "display_name": "Python 3 (ipykernel)",
   "language": "python",
   "name": "python3"
  },
  "language_info": {
   "codemirror_mode": {
    "name": "ipython",
    "version": 3
   },
   "file_extension": ".py",
   "mimetype": "text/x-python",
   "name": "python",
   "nbconvert_exporter": "python",
   "pygments_lexer": "ipython3",
   "version": "3.11.5"
  }
 },
 "nbformat": 4,
 "nbformat_minor": 5
}
