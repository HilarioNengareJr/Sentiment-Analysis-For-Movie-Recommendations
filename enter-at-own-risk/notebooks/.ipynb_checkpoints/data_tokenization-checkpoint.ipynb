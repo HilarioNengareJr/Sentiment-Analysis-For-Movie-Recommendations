{
 "cells": [
  {
   "cell_type": "code",
   "execution_count": 126,
   "id": "05ffb346-0ad0-4b26-9aa8-ea4feb2cefa3",
   "metadata": {},
   "outputs": [],
   "source": [
    "# Tokenizing \n",
    "import ast"
   ]
  },
  {
   "cell_type": "code",
   "execution_count": 127,
   "id": "df1cb3e8-1718-4c7c-87dc-94d477ccf932",
   "metadata": {},
   "outputs": [],
   "source": [
    "import pandas as pd"
   ]
  },
  {
   "cell_type": "code",
   "execution_count": 128,
   "id": "811ed01b-238c-40cb-9468-02077c4b4fc2",
   "metadata": {},
   "outputs": [],
   "source": [
    "import nltk\n",
    "from nltk.tokenize import word_tokenize\n",
    "from nltk.corpus import stopwords"
   ]
  },
  {
   "cell_type": "code",
   "execution_count": 137,
   "id": "61772de6-4916-419d-8d87-e3c99059fc0e",
   "metadata": {},
   "outputs": [
    {
     "name": "stderr",
     "output_type": "stream",
     "text": [
      "[nltk_data] Downloading package punkt to /home/hilario/nltk_data...\n",
      "[nltk_data]   Package punkt is already up-to-date!\n",
      "[nltk_data] Downloading package stopwords to\n",
      "[nltk_data]     /home/hilario/nltk_data...\n",
      "[nltk_data]   Package stopwords is already up-to-date!\n"
     ]
    },
    {
     "data": {
      "text/plain": [
       "True"
      ]
     },
     "execution_count": 137,
     "metadata": {},
     "output_type": "execute_result"
    }
   ],
   "source": [
    "nltk.download('punkt')\n",
    "nltk.download('stopwords')"
   ]
  },
  {
   "cell_type": "code",
   "execution_count": 138,
   "id": "e679dbfc-e867-4e0f-9913-796d39624125",
   "metadata": {},
   "outputs": [],
   "source": [
    "df = pd.read_csv('../data/data_set_v2.csv')"
   ]
  },
  {
   "cell_type": "code",
   "execution_count": 139,
   "id": "506b0900-07c8-4e2f-afa0-c695f4a5672e",
   "metadata": {},
   "outputs": [],
   "source": [
    "# Performing tokenization at aspect level for each sentence \n",
    "token_list = [word_tokenize(sentence) for sentence in df['User Reviews']]"
   ]
  },
  {
   "cell_type": "code",
   "execution_count": 140,
   "id": "920d1413-04ce-4f79-9f07-6ca2c4832307",
   "metadata": {},
   "outputs": [],
   "source": [
    "# Creating a set of stop words in english\n",
    "stop_words = set(stopwords.words(\"english\"))"
   ]
  },
  {
   "cell_type": "code",
   "execution_count": 141,
   "id": "86459b90-ba2d-4b18-8e14-fe78dda6e015",
   "metadata": {},
   "outputs": [],
   "source": [
    "# removing stop words and maintaining list structure\n",
    "def remove_stopwords(input_sentence_list):\n",
    "    return [word for word in input_sentence_list if word.casefold() not in stop_words]    "
   ]
  },
  {
   "cell_type": "code",
   "execution_count": 142,
   "id": "cddb40aa-a380-4a0b-9e9d-529196ab2ade",
   "metadata": {},
   "outputs": [],
   "source": [
    "output_data = [remove_stopwords(sentence) for sentence in token_list]"
   ]
  },
  {
   "cell_type": "code",
   "execution_count": 143,
   "id": "4100da1a-cf08-46ef-8703-79365e4462ac",
   "metadata": {},
   "outputs": [],
   "source": [
    "df = pd.DataFrame({'User Reviews': output_data})"
   ]
  },
  {
   "cell_type": "code",
   "execution_count": 144,
   "id": "a5df825c-f107-48a0-9e83-129ada9006ac",
   "metadata": {},
   "outputs": [],
   "source": [
    "df.to_pickle('../data/data_set_v3.pkl')"
   ]
  },
  {
   "cell_type": "code",
   "execution_count": null,
   "id": "c0e7b7c3-f657-428f-aa68-eb987ab7940a",
   "metadata": {},
   "outputs": [],
   "source": []
  }
 ],
 "metadata": {
  "kernelspec": {
   "display_name": "Python 3 (ipykernel)",
   "language": "python",
   "name": "python3"
  },
  "language_info": {
   "codemirror_mode": {
    "name": "ipython",
    "version": 3
   },
   "file_extension": ".py",
   "mimetype": "text/x-python",
   "name": "python",
   "nbconvert_exporter": "python",
   "pygments_lexer": "ipython3",
   "version": "3.11.5"
  }
 },
 "nbformat": 4,
 "nbformat_minor": 5
}
