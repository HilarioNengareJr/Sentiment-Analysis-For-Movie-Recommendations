{
 "cells": [
  {
   "cell_type": "code",
   "execution_count": 1,
   "id": "e25cce0e-5fdb-4e6c-9c93-9abf0004b965",
   "metadata": {},
   "outputs": [],
   "source": [
    "import pandas as pd"
   ]
  },
  {
   "cell_type": "code",
   "execution_count": 2,
   "id": "c6f6c0d0-9a20-4c6e-b5c3-73479166c154",
   "metadata": {},
   "outputs": [],
   "source": [
    "import re "
   ]
  },
  {
   "cell_type": "code",
   "execution_count": 3,
   "id": "9895fff9-2cad-4765-b39b-c8d7b8400017",
   "metadata": {},
   "outputs": [],
   "source": [
    "df = pd.read_pickle('../data/data_set_v4.pkl')"
   ]
  },
  {
   "cell_type": "code",
   "execution_count": 4,
   "id": "da13eff9-9efa-4f1a-a467-818d3f0981a6",
   "metadata": {},
   "outputs": [],
   "source": [
    "# Return a sentence with no special characters\n",
    "def filter_special_chars(review):\n",
    "    return [re.sub(re.compile(r'[^a-zA-Z0-9\\s]'),'', word) for word in review]"
   ]
  },
  {
   "cell_type": "code",
   "execution_count": 5,
   "id": "f111a9bd-b65a-46f6-9795-3f9428f4844f",
   "metadata": {},
   "outputs": [],
   "source": [
    "\n",
    "filtered_stems = [filter_special_chars(review) for review in df['Stemmed User Reviews']]"
   ]
  },
  {
   "cell_type": "code",
   "execution_count": 6,
   "id": "099b2265-d6bd-4200-9c6b-8a34dbef48f9",
   "metadata": {},
   "outputs": [],
   "source": [
    "series = pd.Series(filtered_stems, name='Stemmed User Reviews')"
   ]
  },
  {
   "cell_type": "code",
   "execution_count": 87,
   "id": "be5ed584",
   "metadata": {},
   "outputs": [],
   "source": [
    "series.to_pickle('../data/data_set_v5.pkl')\n",
    "series.to_csv('../data/data_set_v5.csv', index=False)"
   ]
  }
 ],
 "metadata": {
  "kernelspec": {
   "display_name": "Python 3 (ipykernel)",
   "language": "python",
   "name": "python3"
  },
  "language_info": {
   "codemirror_mode": {
    "name": "ipython",
    "version": 3
   },
   "file_extension": ".py",
   "mimetype": "text/x-python",
   "name": "python",
   "nbconvert_exporter": "python",
   "pygments_lexer": "ipython3",
   "version": "3.11.5"
  }
 },
 "nbformat": 4,
 "nbformat_minor": 5
}
