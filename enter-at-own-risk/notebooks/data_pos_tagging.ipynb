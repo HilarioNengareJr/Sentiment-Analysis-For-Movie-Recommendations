{
 "cells": [
  {
   "cell_type": "code",
   "execution_count": 1,
   "id": "8406dafd-813a-49a6-8738-72a0c9638fc6",
   "metadata": {},
   "outputs": [],
   "source": [
    "import pandas as pd"
   ]
  },
  {
   "cell_type": "code",
   "execution_count": 2,
   "id": "96d606a1-0f5b-4368-a690-2c8a84ef2492",
   "metadata": {},
   "outputs": [
    {
     "name": "stderr",
     "output_type": "stream",
     "text": [
      "[nltk_data] Downloading package punkt to /home/hilario/nltk_data...\n",
      "[nltk_data]   Package punkt is already up-to-date!\n",
      "[nltk_data] Downloading package averaged_perceptron_tagger to\n",
      "[nltk_data]     /home/hilario/nltk_data...\n",
      "[nltk_data]   Package averaged_perceptron_tagger is already up-to-\n",
      "[nltk_data]       date!\n"
     ]
    },
    {
     "data": {
      "text/plain": [
       "True"
      ]
     },
     "execution_count": 2,
     "metadata": {},
     "output_type": "execute_result"
    }
   ],
   "source": [
    "import nltk\n",
    "nltk.download('punkt')\n",
    "nltk.download(\"averaged_perceptron_tagger\")"
   ]
  },
  {
   "cell_type": "code",
   "execution_count": 3,
   "id": "aabf5620-49ff-4db1-9b34-b477a11acd96",
   "metadata": {},
   "outputs": [],
   "source": [
    "from nltk import pos_tag"
   ]
  },
  {
   "cell_type": "code",
   "execution_count": 4,
   "id": "db155322-1be2-4562-abbc-372eff423161",
   "metadata": {},
   "outputs": [],
   "source": [
    "#Loading the labelled data set \n",
    "df = pd.read_pickle('../data/labelled_data.pkl')"
   ]
  },
  {
   "cell_type": "code",
   "execution_count": 5,
   "id": "699b60ed-0c8d-4c49-84d6-24ca7b521fa3",
   "metadata": {},
   "outputs": [
    {
     "data": {
      "text/html": [
       "<div>\n",
       "<style scoped>\n",
       "    .dataframe tbody tr th:only-of-type {\n",
       "        vertical-align: middle;\n",
       "    }\n",
       "\n",
       "    .dataframe tbody tr th {\n",
       "        vertical-align: top;\n",
       "    }\n",
       "\n",
       "    .dataframe thead th {\n",
       "        text-align: right;\n",
       "    }\n",
       "</style>\n",
       "<table border=\"1\" class=\"dataframe\">\n",
       "  <thead>\n",
       "    <tr style=\"text-align: right;\">\n",
       "      <th></th>\n",
       "      <th>Stemmed User Reviews</th>\n",
       "      <th>Labels</th>\n",
       "    </tr>\n",
       "  </thead>\n",
       "  <tbody>\n",
       "    <tr>\n",
       "      <th>0</th>\n",
       "      <td>[excruciatingli, aw]</td>\n",
       "      <td>-1</td>\n",
       "    </tr>\n",
       "    <tr>\n",
       "      <th>1</th>\n",
       "      <td>[happen, ]</td>\n",
       "      <td>0</td>\n",
       "    </tr>\n",
       "    <tr>\n",
       "      <th>2</th>\n",
       "      <td>[worst, one, yet, ]</td>\n",
       "      <td>-1</td>\n",
       "    </tr>\n",
       "    <tr>\n",
       "      <th>3</th>\n",
       "      <td>[fast, x]</td>\n",
       "      <td>0</td>\n",
       "    </tr>\n",
       "    <tr>\n",
       "      <th>4</th>\n",
       "      <td>[liter, thought, parodi, skit, snl, ]</td>\n",
       "      <td>-1</td>\n",
       "    </tr>\n",
       "  </tbody>\n",
       "</table>\n",
       "</div>"
      ],
      "text/plain": [
       "                    Stemmed User Reviews  Labels\n",
       "0                   [excruciatingli, aw]      -1\n",
       "1                             [happen, ]       0\n",
       "2                    [worst, one, yet, ]      -1\n",
       "3                              [fast, x]       0\n",
       "4  [liter, thought, parodi, skit, snl, ]      -1"
      ]
     },
     "execution_count": 5,
     "metadata": {},
     "output_type": "execute_result"
    }
   ],
   "source": [
    "df.head()"
   ]
  },
  {
   "cell_type": "code",
   "execution_count": 6,
   "id": "ed15bbf4-ef8f-43e8-8078-dff01074eae5",
   "metadata": {},
   "outputs": [],
   "source": [
    "user_reviews = [review for review in df['Stemmed User Reviews']]"
   ]
  },
  {
   "cell_type": "code",
   "execution_count": 7,
   "id": "dd29d5cc-e135-4e41-bc16-6e3bb8697f1c",
   "metadata": {},
   "outputs": [
    {
     "data": {
      "text/plain": [
       "[['excruciatingli', 'aw'],\n",
       " ['happen', ''],\n",
       " ['worst', 'one', 'yet', ''],\n",
       " ['fast', 'x'],\n",
       " ['liter', 'thought', 'parodi', 'skit', 'snl', '']]"
      ]
     },
     "execution_count": 7,
     "metadata": {},
     "output_type": "execute_result"
    }
   ],
   "source": [
    "user_reviews[:5]"
   ]
  },
  {
   "cell_type": "code",
   "execution_count": 8,
   "id": "bb59bfaa-51a6-475d-9fab-38b25388fc26",
   "metadata": {},
   "outputs": [],
   "source": [
    "filtered_reviews = [[word for word in review if isinstance(word, str) and word] for review in user_reviews]"
   ]
  },
  {
   "cell_type": "code",
   "execution_count": 9,
   "id": "6bed532e-f734-43bf-a8dc-2ea125454daf",
   "metadata": {},
   "outputs": [],
   "source": [
    "tagged_data = [pos_tag(review) for review in filtered_reviews]"
   ]
  },
  {
   "cell_type": "code",
   "execution_count": 10,
   "id": "aeca3898-77bd-437d-bad0-0da14c6802f7",
   "metadata": {},
   "outputs": [
    {
     "data": {
      "text/plain": [
       "[[('excruciatingli', 'NN'), ('aw', 'NN')],\n",
       " [('happen', 'VB')],\n",
       " [('worst', 'JJS'), ('one', 'CD'), ('yet', 'RB')],\n",
       " [('fast', 'RB'), ('x', 'NN')],\n",
       " [('liter', 'NN'),\n",
       "  ('thought', 'VBD'),\n",
       "  ('parodi', 'RB'),\n",
       "  ('skit', 'JJ'),\n",
       "  ('snl', 'NN')],\n",
       " [('need', 'NN'), ('stop', 'VB')],\n",
       " [('comic', 'JJ'), ('bad', 'JJ')],\n",
       " [('aveng', 'JJ'),\n",
       "  ('meet', 'NN'),\n",
       "  ('fast', 'JJ'),\n",
       "  ('furiou', 'NN'),\n",
       "  ('everyth', 'NN'),\n",
       "  ('goe', 'NN'),\n",
       "  ('wrong', 'JJ')],\n",
       " [('toretto', 'JJ'),\n",
       "  ('start', 'NN'),\n",
       "  ('play', 'NN'),\n",
       "  ('rocket', 'NN'),\n",
       "  ('leagu', 'NN'),\n",
       "  ('middl', 'NN'),\n",
       "  ('itali', 'NN')],\n",
       " [('jason', 'NN'),\n",
       "  ('momoa', 'RBS'),\n",
       "  ('give', 'VB'),\n",
       "  ('one', 'CD'),\n",
       "  ('embarrass', 'NN'),\n",
       "  ('perform', 'NN'),\n",
       "  ('film', 'NN'),\n",
       "  ('histori', 'NN')]]"
      ]
     },
     "execution_count": 10,
     "metadata": {},
     "output_type": "execute_result"
    }
   ],
   "source": [
    "tagged_data[:10]"
   ]
  },
  {
   "cell_type": "code",
   "execution_count": 11,
   "id": "ad487ce6-9cff-480d-b7ad-ed15b53cdd27",
   "metadata": {},
   "outputs": [],
   "source": [
    "df['Stemmed User Reviews'] = tagged_data"
   ]
  },
  {
   "cell_type": "code",
   "execution_count": 12,
   "id": "8afec30b-a0e8-40f6-baa4-5beff4dd0a51",
   "metadata": {},
   "outputs": [
    {
     "data": {
      "text/html": [
       "<div>\n",
       "<style scoped>\n",
       "    .dataframe tbody tr th:only-of-type {\n",
       "        vertical-align: middle;\n",
       "    }\n",
       "\n",
       "    .dataframe tbody tr th {\n",
       "        vertical-align: top;\n",
       "    }\n",
       "\n",
       "    .dataframe thead th {\n",
       "        text-align: right;\n",
       "    }\n",
       "</style>\n",
       "<table border=\"1\" class=\"dataframe\">\n",
       "  <thead>\n",
       "    <tr style=\"text-align: right;\">\n",
       "      <th></th>\n",
       "      <th>Stemmed User Reviews</th>\n",
       "      <th>Labels</th>\n",
       "    </tr>\n",
       "  </thead>\n",
       "  <tbody>\n",
       "    <tr>\n",
       "      <th>0</th>\n",
       "      <td>[(excruciatingli, NN), (aw, NN)]</td>\n",
       "      <td>-1</td>\n",
       "    </tr>\n",
       "    <tr>\n",
       "      <th>1</th>\n",
       "      <td>[(happen, VB)]</td>\n",
       "      <td>0</td>\n",
       "    </tr>\n",
       "    <tr>\n",
       "      <th>2</th>\n",
       "      <td>[(worst, JJS), (one, CD), (yet, RB)]</td>\n",
       "      <td>-1</td>\n",
       "    </tr>\n",
       "    <tr>\n",
       "      <th>3</th>\n",
       "      <td>[(fast, RB), (x, NN)]</td>\n",
       "      <td>0</td>\n",
       "    </tr>\n",
       "    <tr>\n",
       "      <th>4</th>\n",
       "      <td>[(liter, NN), (thought, VBD), (parodi, RB), (s...</td>\n",
       "      <td>-1</td>\n",
       "    </tr>\n",
       "  </tbody>\n",
       "</table>\n",
       "</div>"
      ],
      "text/plain": [
       "                                Stemmed User Reviews  Labels\n",
       "0                   [(excruciatingli, NN), (aw, NN)]      -1\n",
       "1                                     [(happen, VB)]       0\n",
       "2               [(worst, JJS), (one, CD), (yet, RB)]      -1\n",
       "3                              [(fast, RB), (x, NN)]       0\n",
       "4  [(liter, NN), (thought, VBD), (parodi, RB), (s...      -1"
      ]
     },
     "execution_count": 12,
     "metadata": {},
     "output_type": "execute_result"
    }
   ],
   "source": [
    "df.head()"
   ]
  },
  {
   "cell_type": "code",
   "execution_count": 13,
   "id": "cb51ab6d-6992-40f1-8e24-13d9421a5462",
   "metadata": {},
   "outputs": [],
   "source": [
    "df.to_csv('../data/final_set.csv', index=False)\n",
    "df.to_pickle('../data/final_set.pkl')"
   ]
  },
  {
   "cell_type": "code",
   "execution_count": null,
   "id": "b9e097e2-1056-43e6-b330-44305f999b22",
   "metadata": {},
   "outputs": [],
   "source": []
  }
 ],
 "metadata": {
  "kernelspec": {
   "display_name": "Python 3 (ipykernel)",
   "language": "python",
   "name": "python3"
  },
  "language_info": {
   "codemirror_mode": {
    "name": "ipython",
    "version": 3
   },
   "file_extension": ".py",
   "mimetype": "text/x-python",
   "name": "python",
   "nbconvert_exporter": "python",
   "pygments_lexer": "ipython3",
   "version": "3.11.5"
  }
 },
 "nbformat": 4,
 "nbformat_minor": 5
}
